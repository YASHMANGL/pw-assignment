{
 "cells": [
  {
   "cell_type": "markdown",
   "id": "addc833e",
   "metadata": {},
   "source": [
    "7$ Find the value of T(2) for the recurrence relation T(n) = 3T(n-1) + 12n, given that T(0)=5.\n",
    "\n",
    "T(0) = 5\n",
    "T(1) = 3T(0) + 12×1 = 3×5 + 12 = 15 + 12 = 27\n",
    "T(2) = 3T(1) + 12×2 = 3×27 + 24 = 81 + 24 = 105\n",
    "T(2) = 105"
   ]
  },
  {
   "cell_type": "code",
   "execution_count": null,
   "id": "d0baeb03",
   "metadata": {
    "vscode": {
     "languageId": "plaintext"
    }
   },
   "outputs": [],
   "source": [
    "2. Given a recurrence relation, solve it using the substitution method:\n",
    "a. T(n) = T(n-1) + c\n",
    "\n",
    "b. T(n) = 2T(n/2) + n\n",
    "\n",
    "c. T(n) = 2T(n/2) + c\n",
    "\n",
    "d. T(n) = T(n/2) + c\n",
    "\n",
    "\n",
    "Ans \n",
    "a part\n",
    "T(n) = T(n-1) + c\n",
    "= [T(n-2) + c] + c = T(n-2) + 2c\n",
    "= [[T(n-3) + c] + c] + c = T(n-3) + 3c\n",
    "...\n",
    "= T(0) + n×c\n",
    "T(n) = T(0) + c·n\n",
    "\n",
    "b part\n",
    "Assume n is a power of 2: n = 2^k\n",
    "T(n) = 2T(n/2) + n\n",
    "= 2[2T(n/4) + n/2] + n = 4T(n/4) + 2(n/2) + n = 4T(n/4) + n + n = 4T(n/4) + 2n\n",
    "= 8T(n/8) + 3n\n",
    "\n",
    "After k steps: T(1) + n·k\n",
    "Since n = 2^k, k = log₂(n)\n",
    "\n",
    "So, T(n) = n·T(1) + n·log₂(n)\n",
    "If T(1) is constant, T(n) = O(n log n)\n",
    "\n",
    "c part\n",
    "T(n) = 2T(n/2) + c\n",
    "= 2[2T(n/4) + c] + c = 4T(n/4) + 2c + c = 4T(n/4) + 3c\n",
    "= 8T(n/8) + 7c\n",
    "\n",
    "After k steps (when n = 2^k):\n",
    "T(1) + (2^k - 1)c = T(1) + (n - 1)c\n",
    "T(n) = n·T(1) + (n - 1)c = O(n)\n",
    "\n",
    "d part\n",
    "T(n) = T(n/2) + c\n",
    "= [T(n/4) + c] + c = T(n/4) + 2c\n",
    "= T(n/8) + 3c\n",
    "...\n",
    "After k steps (n = 2^k):\n",
    "T(1) + k·c\n",
    "k = log₂(n)\n",
    "T(n) = T(1) + c·log₂(n) = O(log n)"
   ]
  },
  {
   "cell_type": "markdown",
   "id": "74f353da",
   "metadata": {},
   "source": [
    "3. Given a recurrence relation, solve it using the recursive tree approach:\n",
    "a. T(n) = 2T(n-1) +1\n",
    "b. T(n) = 2T(n/2) + n\n",
    "\n",
    "Ans a part\n",
    "Each time you branch, you get two children with size (n-1). The tree depth is n, and at level k, there are 2^k nodes, each with T(n-k). At the leaves (n = 0), you stop. The number of leaves is 2^n, and sum at each level is exponential:\n",
    "\n",
    "Total work: O(2^n)\n",
    "\n",
    "T(n) = O(2^n)\n",
    "\n",
    "b part\n",
    "Level 0: n work\n",
    "Level 1: 2 × (n/2) = n\n",
    "Level 2: 4 × (n/4) = n\n",
    "...\n",
    "log₂(n) levels\n",
    "Total work: n × log₂(n)\n",
    "T(n) = O(n log n)"
   ]
  }
 ],
 "metadata": {
  "language_info": {
   "name": "python"
  }
 },
 "nbformat": 4,
 "nbformat_minor": 5
}
