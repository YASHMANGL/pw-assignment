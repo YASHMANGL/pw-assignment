{
 "cells": [
  {
   "cell_type": "code",
   "execution_count": null,
   "id": "a501a0fd",
   "metadata": {},
   "outputs": [],
   "source": [
    "# 1 Demonstrate three different methods for creating identical 2D arrays in NumPy. Provide the code for each method and the final output after each method \n",
    "\n",
    "import numpy as np\n",
    "\n",
    "# Method 1: np.array with a list of lists\n",
    "a1 = np.array([[1, 2], [3, 4]])\n",
    "print(a1)\n",
    "\n",
    "# Method 2: np.ones/multiply & reshape\n",
    "a2 = np.ones((2, 2)) * np.array([1, 2, 3, 4]).reshape(2,2)\n",
    "print(a2)\n",
    "\n",
    "# Method 3: np.full or np.zeros, then assign\n",
    "a3 = np.zeros((2, 2), dtype=int)\n",
    "a3[0] = [1, 2]\n",
    "a3[1] = [3, 4]\n",
    "print(a3)\n"
   ]
  },
  {
   "cell_type": "code",
   "execution_count": null,
   "id": "7d3421c9",
   "metadata": {},
   "outputs": [],
   "source": [
    "# 2Using the Numpy function, generate an array of 100 evenly spaced numbers between 1 and 10 and Reshape that 1D array into a 2D array \n",
    "arr = np.linspace(1, 10, 100)\n",
    "arr2d = arr.reshape(20, 5)  # shape must multiply to 100, e.g., (10,10), (20,5), etc.\n",
    "print(arr2d)\n"
   ]
  },
  {
   "cell_type": "code",
   "execution_count": null,
   "id": "164b14bd",
   "metadata": {},
   "outputs": [],
   "source": [
    "# 3Explain the following terms \n",
    "# The difference in np.array, np.asarray and np.asanyarray \n",
    "# The difference between Deep copy and shallow copy \n",
    "\n",
    "# np.array: Always makes a copy (unless given another np.array).\n",
    "# np.asarray: Converts input to array; doesn’t copy if input is already np.array.\n",
    "# np.asanyarray: Like asarray, but passes through subclasses.\n",
    "\n",
    "# Deep copy: New array, changes do NOT affect original.\n",
    "# Shallow copy: Only reference is copied, changes in one reflect in the other (if the copy is a view, e.g., arr[::2])."
   ]
  },
  {
   "cell_type": "code",
   "execution_count": null,
   "id": "3d975b37",
   "metadata": {},
   "outputs": [],
   "source": [
    "# 4 Generate a 3x3 array with random floating-point numbers between 5 and 20. Then, round each number in the array to 2 decimal places. \n",
    "arr = np.random.uniform(5, 20, (3, 3))\n",
    "rounded = np.round(arr, 2)\n",
    "print(rounded)\n"
   ]
  },
  {
   "cell_type": "code",
   "execution_count": null,
   "id": "b041d0a2",
   "metadata": {},
   "outputs": [],
   "source": [
    "# 5Create a NumPy array with random integers between 1 and 10 of shape (5, 6). After creating the array perform the following operations: \n",
    "# a)Extract all even integers from array. \n",
    "# b)Extract all odd integers from array \n",
    "\n",
    "arr = np.random.randint(1, 11, (5, 6))\n",
    "evens = arr[arr % 2 == 0]\n",
    "odds = arr[arr % 2 == 1]\n",
    "print(\"Evens:\", evens)\n",
    "print(\"Odds:\", odds)\n"
   ]
  },
  {
   "cell_type": "code",
   "execution_count": null,
   "id": "2e6dc79e",
   "metadata": {},
   "outputs": [],
   "source": [
    "# 6 Create a 3D NumPy array of shape (3, 3, 3) containing random integers between 1 and 10. Perform the following operations: \n",
    "# a) Find the indices of the maximum values along each depth level (third axis). \n",
    "# b) Perform element-wise multiplication of between both array \n",
    "\n",
    "arr = np.random.randint(1, 11, (3, 3, 3))\n",
    "max_indices = np.argmax(arr, axis=2)\n",
    "elementwise_multiply = arr * arr  # is just arr squared\n",
    "print(\"Indices of max:\", max_indices)\n",
    "print(\"Squared array:\", elementwise_multiply)\n"
   ]
  },
  {
   "cell_type": "code",
   "execution_count": null,
   "id": "872d52c7",
   "metadata": {},
   "outputs": [],
   "source": [
    "# 7 Clean and transform the 'Phone' column in the sample dataset to remove non-numeric characters and convert it to a numeric data type. Also display the table attributes and data types of each column \n",
    "\n",
    "import pandas as pd\n",
    "import re\n",
    "\n",
    "df = pd.read_csv('People-Data.csv')\n",
    "df['Phone_clean'] = df['Phone'].astype(str).apply(lambda x: re.sub(r'\\D', '', x) or pd.NA).astype('Int64')\n",
    "print(df.dtypes)\n"
   ]
  },
  {
   "cell_type": "code",
   "execution_count": null,
   "id": "1cb103d7",
   "metadata": {},
   "outputs": [],
   "source": [
    "# 8 Perform the following tasks using people dataset: \n",
    "# a) Read the 'data.csv' file using pandas, skipping the first 50 rows. \n",
    "# b) Only read the columns: 'Last Name', ‘Gender’,’Email’,‘Phone’ and ‘Salary’ from the file. \n",
    "# c) Display the first 10 rows of the filtered dataset.\n",
    "# d) Extract the ‘Salary’' column as a Series and display its last 5 values \n",
    "\n",
    "df = pd.read_csv('People-Data.csv', skiprows=50)\n",
    "cols = ['Last Name', 'Gender', 'Email', 'Phone', 'Salary']\n",
    "df = df[cols]\n",
    "print(df.head(10))\n",
    "print(df['Salary'].tail())\n"
   ]
  },
  {
   "cell_type": "code",
   "execution_count": null,
   "id": "21eaae99",
   "metadata": {},
   "outputs": [],
   "source": [
    "# 9 Filter and select rows from the People_Dataset, where the “Last Name' column contains the name 'Duke',  'Gender' column contains the word Female and ‘Salary’ should be less than 85000\n",
    "\n",
    "mask = df['Last Name'].str.contains('Duke', na=False) & \\\n",
    "       (df['Gender'] == 'Female') & \\\n",
    "       (df['Salary'] < 85000)\n",
    "filtered = df[mask]\n",
    "print(filtered)\n"
   ]
  },
  {
   "cell_type": "code",
   "execution_count": null,
   "id": "d7828ced",
   "metadata": {},
   "outputs": [],
   "source": [
    "# 10 Create a 7*5 Dataframe in Pandas using a series generated from 35 random integers between 1 to 6?\n",
    "\n",
    "randints = np.random.randint(1, 7, 35)\n",
    "df = pd.DataFrame(randints.reshape(7, 5))\n",
    "print(df)\n"
   ]
  },
  {
   "cell_type": "code",
   "execution_count": null,
   "id": "aee343c9",
   "metadata": {},
   "outputs": [],
   "source": [
    "# 11 Create two different Series, each of length 50, with the following criteria: \n",
    "# a) The first Series should contain random numbers ranging from 10 to 50. \n",
    "# b) The second Series should contain random numbers ranging from 100 to 1000. \n",
    "# c) Create a DataFrame by joining these Series by column, and, change the names of the columns to 'col1', 'col2', etc \n",
    "\n",
    "s1 = pd.Series(np.random.randint(10, 51, 50))\n",
    "s2 = pd.Series(np.random.randint(100, 1001, 50))\n",
    "df = pd.concat([s1, s2], axis=1)\n",
    "df.columns = ['col1', 'col2']\n",
    "print(df)\n"
   ]
  },
  {
   "cell_type": "code",
   "execution_count": null,
   "id": "e3022e27",
   "metadata": {},
   "outputs": [],
   "source": [
    "# 12Perform the following operations using people data set: \n",
    "# a) Delete the 'Email', 'Phone', and 'Date of birth' columns from the dataset. \n",
    "# b) Delete the rows containing any missing values.\n",
    "# d) Print the final output also \n",
    "\n",
    "df = pd.read_csv('People-Data.csv')\n",
    "df = df.drop(['Email', 'Phone', 'Date of birth'], axis=1)\n",
    "df = df.dropna()\n",
    "print(df)\n"
   ]
  },
  {
   "cell_type": "code",
   "execution_count": null,
   "id": "d68e85cb",
   "metadata": {},
   "outputs": [],
   "source": [
    "# 13 Create two NumPy arrays, x and y, each containing 100 random float values between 0 and 1. Perform the following tasks using Matplotlib and NumPy: \n",
    "# a) Create a scatter plot using x and y, setting the color of the points to red and the marker style to 'o'. \n",
    "# b) Add a horizontal line at y = 0.5 using a dashed line style and label it as 'y = 0.5'. \n",
    "# c) Add a vertical line at x = 0.5 using a dotted line style and label it as 'x = 0.5'. \n",
    "# d) Label the x-axis as 'X-axis' and the y-axis as 'Y-axis'. \n",
    "# e) Set the title of the plot as 'Advanced Scatter Plot of Random Values'. \n",
    "# f) Display a legend for the scatter plot, the horizontal line, and the vertical line.\n",
    "\n",
    "import matplotlib.pyplot as plt\n",
    "\n",
    "x = np.random.rand(100)\n",
    "y = np.random.rand(100)\n",
    "plt.scatter(x, y, c='red', marker='o', label='Points')\n",
    "plt.axhline(0.5, color='black', linestyle='--', label='y = 0.5')\n",
    "plt.axvline(0.5, color='blue', linestyle=':', label='x = 0.5')\n",
    "plt.xlabel('X-axis')\n",
    "plt.ylabel('Y-axis')\n",
    "plt.title('Advanced Scatter Plot of Random Values')\n",
    "plt.legend()\n",
    "plt.show()\n"
   ]
  },
  {
   "cell_type": "code",
   "execution_count": null,
   "id": "2e374a54",
   "metadata": {},
   "outputs": [],
   "source": [
    "# 14 Create a time-series dataset in a Pandas DataFrame with columns: 'Date', 'Temperature', 'Humidity' and Perform the following tasks using Matplotlib: \n",
    "# a) Plot the 'Temperature' and 'Humidity' on the same plot with different y-axes (left y-axis for 'Temperature' and right y-axis for 'Humidity'). \n",
    "# b) Label the x-axis as 'Date'. \n",
    "# c) Set the title of the plot as 'Temperature and Humidity Over Time'. \n",
    "\n",
    "df = pd.DataFrame({\n",
    "    'Date': pd.date_range('2025-01-01', periods=30),\n",
    "    'Temperature': np.random.randint(20, 40, 30),\n",
    "    'Humidity': np.random.randint(40, 80, 30)\n",
    "})\n",
    "fig, ax1 = plt.subplots()\n",
    "ax2 = ax1.twinx()\n",
    "ax1.plot(df['Date'], df['Temperature'], 'r-', label='Temperature')\n",
    "ax2.plot(df['Date'], df['Humidity'], 'b-', label='Humidity')\n",
    "ax1.set_xlabel('Date')\n",
    "ax1.set_ylabel('Temperature', color='r')\n",
    "ax2.set_ylabel('Humidity', color='b')\n",
    "plt.title('Temperature and Humidity Over Time')\n",
    "plt.show()\n"
   ]
  },
  {
   "cell_type": "code",
   "execution_count": null,
   "id": "c59adf1b",
   "metadata": {},
   "outputs": [],
   "source": [
    "# 15 Create a NumPy array data containing 1000 samples from a normal distribution. Perform the following tasks using Matplotlib: \n",
    "# a) Plot a histogram of the data with 30 bins. \n",
    "# b) Overlay a line plot representing the normal distribution's probability density function (PDF). \n",
    "# c) Label the x-axis as 'Value' and the y-axis as 'Frequency/Probability'. \n",
    "# d) Set the title of the plot as 'Histogram with PDF Overlay'.\n",
    "\n",
    "from scipy.stats import norm\n",
    "\n",
    "data = np.random.normal(0, 1, 1000)\n",
    "plt.hist(data, bins=30, density=True, alpha=0.6, label='Histogram')\n",
    "xmin, xmax = plt.xlim()\n",
    "x = np.linspace(xmin, xmax, 100)\n",
    "pdf = norm.pdf(x, 0, 1)\n",
    "plt.plot(x, pdf, 'k-', label='PDF')\n",
    "plt.xlabel('Value')\n",
    "plt.ylabel('Frequency/Probability')\n",
    "plt.title('Histogram with PDF Overlay')\n",
    "plt.legend()\n",
    "plt.show()\n"
   ]
  },
  {
   "cell_type": "code",
   "execution_count": null,
   "id": "4763d4ec",
   "metadata": {},
   "outputs": [],
   "source": [
    "# 16 Set the title of the plot as 'Histogram with PDF Overlay'. \n",
    "\n",
    "import pandas as pd\n",
    "import matplotlib.pyplot as plt\n",
    "import numpy as np\n",
    "from scipy.stats import norm\n",
    "\n",
    "# Read the data from the CSV file\n",
    "df = pd.read_csv('People-Data.csv')\n",
    "\n",
    "# Extract and clean the Salary column\n",
    "salaries = pd.to_numeric(df['Salary'], errors='coerce').dropna()\n",
    "\n",
    "# Compute mean and std for the salary data\n",
    "mean = salaries.mean()\n",
    "std = salaries.std()\n",
    "\n",
    "# Plot the histogram\n",
    "plt.figure(figsize=(10, 6))\n",
    "count, bins, ignored = plt.hist(salaries, bins=20, density=True, alpha=0.6, color='g', edgecolor='black')\n",
    "\n",
    "# Overlay the PDF of a normal distribution\n",
    "xmin, xmax = plt.xlim()\n",
    "x = np.linspace(xmin, xmax, 100)\n",
    "p = norm.pdf(x, mean, std)\n",
    "plt.plot(x, p, 'k', linewidth=2)\n",
    "\n",
    "# Set the title and labels\n",
    "plt.title('Histogram with PDF Overlay')\n",
    "plt.xlabel('Salary')\n",
    "plt.ylabel('Density')\n",
    "\n",
    "plt.tight_layout()\n",
    "plt.show()\n"
   ]
  },
  {
   "cell_type": "code",
   "execution_count": null,
   "id": "f4c1d3eb",
   "metadata": {},
   "outputs": [],
   "source": [
    "# 17 Create a Seaborn scatter plot of two random arrays, color points based on their position relative to the origin (quadrants), add a legend, label the axes, and set the title as 'Quadrant-wise Scatter Plot'.\n",
    "import seaborn as sns\n",
    "\n",
    "x = np.random.randn(100)\n",
    "y = np.random.randn(100)\n",
    "# Determine quadrant\n",
    "labels = []\n",
    "for xi, yi in zip(x, y):\n",
    "    if xi>0 and yi>0: labels.append('I')\n",
    "    elif xi<0 and yi>0: labels.append('II')\n",
    "    elif xi<0 and yi<0: labels.append('III')\n",
    "    else: labels.append('IV')\n",
    "sns.scatterplot(x=x, y=y, hue=labels, palette='bright')\n",
    "plt.axhline(0, color='k', linestyle='--')\n",
    "plt.axvline(0, color='k', linestyle='--')\n",
    "plt.legend(title='Quadrant')\n",
    "plt.xlabel('X-axis')\n",
    "plt.ylabel('Y-axis')\n",
    "plt.title('Quadrant-wise Scatter Plot')\n",
    "plt.show()\n"
   ]
  },
  {
   "cell_type": "code",
   "execution_count": null,
   "id": "d2f1a37b",
   "metadata": {},
   "outputs": [],
   "source": [
    "# 18 With Bokeh, plot a line chart of a sine wave function, add grid lines, label the axes, and set the title as 'Sine Wave Function' \n",
    "from bokeh.plotting import figure, show\n",
    "from bokeh.io import output_notebook\n",
    "import numpy as np\n",
    "\n",
    "output_notebook()\n",
    "x = np.linspace(0, 4*np.pi, 100)\n",
    "y = np.sin(x)\n",
    "p = figure(title='Sine Wave Function')\n",
    "p.line(x, y, line_width=2)\n",
    "p.xaxis.axis_label = 'x'\n",
    "p.yaxis.axis_label = 'sin(x)'\n",
    "p.grid.visible = True\n",
    "show(p)\n",
    "\n",
    "\n",
    "\n"
   ]
  },
  {
   "cell_type": "code",
   "execution_count": null,
   "id": "8873bcbc",
   "metadata": {},
   "outputs": [],
   "source": [
    "# 19 Using Bokeh, generate a bar chart of randomly generated categorical data, color bars based on their values, add hover tooltips to display exact values, label the axes, and set the title as 'Random Categorical Bar Chart' \n",
    "from bokeh.plotting import figure, show\n",
    "from bokeh.io import output_notebook\n",
    "from bokeh.models import ColumnDataSource, HoverTool\n",
    "import numpy as np\n",
    "\n",
    "output_notebook()\n",
    "cats = ['A','B','C','D','E']\n",
    "values = np.random.randint(1, 20, 5)\n",
    "colors = ['#%02x%02x%02x' % (r, 50, 120) for r in values*10]\n",
    "source = ColumnDataSource(data={'cats':cats, 'vals':values, 'color':colors})\n",
    "p = figure(x_range=cats, title='Random Categorical Bar Chart')\n",
    "p.vbar(x='cats', top='vals', width=0.9, source=source,\n",
    "       color='color', legend_field='cats')\n",
    "p.add_tools(HoverTool(tooltips=[('Value', '@vals')]))\n",
    "p.xaxis.axis_label = 'Category'\n",
    "p.yaxis.axis_label = 'Value'\n",
    "p.grid.visible = True\n",
    "show(p)\n",
    "\n"
   ]
  },
  {
   "cell_type": "code",
   "execution_count": null,
   "id": "cb5aa909",
   "metadata": {},
   "outputs": [],
   "source": [
    "# 20Using Plotly, create a basic line plot of a randomly generated dataset, label the axes, and set the title as 'Simple Line Plot' \n",
    "import plotly.graph_objs as go\n",
    "import numpy as np\n",
    "\n",
    "y = np.random.randn(100).cumsum()\n",
    "fig = go.Figure()\n",
    "fig.add_trace(go.Scatter(y=y, mode='lines'))\n",
    "fig.update_layout(title='Simple Line Plot', xaxis_title='Index', yaxis_title='Value')\n",
    "fig.show()\n"
   ]
  },
  {
   "cell_type": "code",
   "execution_count": null,
   "id": "e53c09c5",
   "metadata": {},
   "outputs": [],
   "source": [
    "\n",
    "# 21Using Plotly, create an interactive pie chart of randomly generated data, add labels and percentages, set the title as 'Interactive Pie Chart'.\n",
    "\n",
    "import plotly.express as px\n",
    "import numpy as np\n",
    "\n",
    "data = np.random.randint(1, 20, 5)\n",
    "labels = ['A','B','C','D','E']\n",
    "fig = px.pie(values=data, names=labels, title='Interactive Pie Chart', hole=0.4)\n",
    "fig.update_traces(textposition='inside', textinfo='percent+label')\n",
    "fig.show()"
   ]
  }
 ],
 "metadata": {
  "kernelspec": {
   "display_name": "Python 3",
   "language": "python",
   "name": "python3"
  },
  "language_info": {
   "name": "python",
   "version": "3.11.4"
  }
 },
 "nbformat": 4,
 "nbformat_minor": 5
}
