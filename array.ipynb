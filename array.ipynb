{
 "cells": [
  {
   "cell_type": "code",
   "execution_count": null,
   "id": "440e495f",
   "metadata": {},
   "outputs": [],
   "source": [
    "# 1. Given an array, check if it contains any duplicates or not. \n",
    "# arr = [1, 2, 4, 2, 5, 9] \n",
    "# Output = True\n",
    "\n",
    "def has_duplicates(arr):\n",
    "    for i in range(len(arr)):\n",
    "        for j in range(i + 1, len(arr)):\n",
    "            if arr[i] == arr[j]:\n",
    "                return True\n",
    "    return False\n",
    "\n",
    "arr = [1, 2, 4, 2, 5, 9]\n",
    "print(has_duplicates(arr))  # Output: True\n"
   ]
  },
  {
   "cell_type": "code",
   "execution_count": null,
   "id": "d1cd5375",
   "metadata": {},
   "outputs": [],
   "source": [
    "# 2. Given an array and an integer k, rotate the array to the right by k steps. \n",
    "# arr = [1, 2, 3, 4, 5, 6, 7] k = 3 \n",
    "# Output = [5, 6, 7, 1, 2, 3, 4]\n",
    "\n",
    "def rotate_right(arr, k):\n",
    "    n = len(arr)\n",
    "    k = k % n\n",
    "    for step in range(k):\n",
    "        last = arr[-1]\n",
    "        # Move everything right\n",
    "        for i in range(n-1, 0, -1):\n",
    "            arr[i] = arr[i-1]\n",
    "        arr[0] = last\n",
    "    return arr\n",
    "\n",
    "arr = [1, 2, 3, 4, 5, 6, 7]\n",
    "k = 3\n",
    "print(rotate_right(arr, k))  # Output: [5, 6, 7, 1, 2, 3, 4]\n"
   ]
  },
  {
   "cell_type": "code",
   "execution_count": null,
   "id": "d6506b16",
   "metadata": {},
   "outputs": [],
   "source": [
    "# 3. Reverse the given array in-place, means without using any extra data structure. \n",
    "# arr = [2, 4, 5, 7, 9, 12] \n",
    "# Output = [12, 9, 7, 5, 4, 2]\n",
    "\n",
    "def reverse_in_place(arr):\n",
    "    n = len(arr)\n",
    "    for i in range(n // 2):\n",
    "        temp = arr[i]\n",
    "        arr[i] = arr[n - 1 - i]\n",
    "        arr[n - 1 - i] = temp\n",
    "\n",
    "arr = [2, 4, 5, 7, 9, 12]\n",
    "reverse_in_place(arr)\n",
    "print(arr)  # Output: [12, 9, 7, 5, 4, 2]\n"
   ]
  },
  {
   "cell_type": "code",
   "execution_count": null,
   "id": "d4570dc5",
   "metadata": {},
   "outputs": [],
   "source": [
    "# 4. Given an array of integers, find the maximum element in an array\n",
    "#  arr = [10, 5, 20, 8, 15]\n",
    "#  Output = 20\n",
    "\n",
    "def find_max(arr):\n",
    "    max_val = arr\n",
    "    for i in range(1, len(arr)):\n",
    "        if arr[i] > max_val:\n",
    "            max_val = arr[i]\n",
    "    return max_val\n",
    "\n",
    "arr = [10, 5, 20, 8, 15]\n",
    "print(find_max(arr))  # Output: 20\n"
   ]
  },
  {
   "cell_type": "code",
   "execution_count": null,
   "id": "8ab31d09",
   "metadata": {},
   "outputs": [],
   "source": [
    "# 5. Given a sorted array, remove the duplicate element without using any extra data structure. \n",
    "# arr = [1, 1, 2, 2, 2, 3, 3, 4, 4, 4, 5, 5] \n",
    "# Output = [1, 2, 3, 4, 5]\n",
    "\n",
    "def remove_duplicates(arr):\n",
    "    if len(arr) == 0:\n",
    "        return arr\n",
    "    write = 1  # Position to write to\n",
    "    for read in range(1, len(arr)):\n",
    "        if arr[read] != arr[write - 1]:\n",
    "            arr[write] = arr[read]\n",
    "            write += 1\n",
    "    # Truncate the list for display (not a real in-place change if not allowed to slice, so print only unique part)\n",
    "    result = []\n",
    "    for i in range(write):\n",
    "        result.append(arr[i])\n",
    "    return result\n",
    "\n",
    "arr = [1, 1, 2, 2, 2, 3, 3, 4, 4, 4, 5, 5]\n",
    "print(remove_duplicates(arr))  # Output: [1, 2, 3, 4, 5]\n"
   ]
  }
 ],
 "metadata": {
  "language_info": {
   "name": "python"
  }
 },
 "nbformat": 4,
 "nbformat_minor": 5
}
