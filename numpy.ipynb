{
 "cells": [
  {
   "cell_type": "markdown",
   "id": "f23c64ed",
   "metadata": {},
   "source": [
    "1. What is a Python library? Why do we use Python libraries?\n",
    "\n",
    "\n",
    "A Python library is a collection of pre-written code (modules, functions, classes) that provides specific functionality, so you don’t have to write it from scratch.\n",
    "\n",
    "libraries: They save time, simplify complex tasks, and allow you to leverage community-tested and optimized solutions (e.g., NumPy for numerical computing, Pandas for data analysis).\n",
    "\n",
    "2. What is the difference between Numpy array and List?\n",
    "\n",
    "Array:- Homogeneous (same type)  ,Much faster, Element-wise   , vectorized  , Less (compact) ,Scientific operations (slicing, math, matrix ops, etc.)\n",
    "\n",
    "List :-Heterogeneous/mixed       ,Slower     ,Limited/Looping ,More         ,Basic operations                        \t"
   ]
  },
  {
   "cell_type": "code",
   "execution_count": null,
   "id": "596a8418",
   "metadata": {},
   "outputs": [],
   "source": [
    "# 3. Find the shape, size and dimension of the following array?\n",
    "# [[1, 2, 3, 4]\n",
    "# [5, 6, 7, 8],\n",
    "# [9, 10, 11, 12]]\n",
    "\n",
    "import numpy as np\n",
    "arr = np.array([[1, 2, 3, 4],\n",
    "                [5, 6, 7, 8],\n",
    "                [9,10,11,12]])\n",
    "print(\"Shape:\", arr.shape)        # (3, 4)\n",
    "print(\"Size:\", arr.size)          # 12\n",
    "print(\"Dimension:\", arr.ndim)     # 2\n"
   ]
  },
  {
   "cell_type": "code",
   "execution_count": null,
   "id": "813245da",
   "metadata": {},
   "outputs": [],
   "source": [
    "# 4. Write python code to access the first row of the following array?\n",
    "# [[1, 2, 3, 4]\n",
    "# [5, 6, 7, 8],\n",
    "# [9, 10, 11, 12]]\n",
    "\n",
    "\n",
    "first_row = arr[0]\n",
    "print(first_row)\n"
   ]
  },
  {
   "cell_type": "code",
   "execution_count": null,
   "id": "79f3c6a6",
   "metadata": {},
   "outputs": [],
   "source": [
    "# 5. How do you access the element at the third row and fourth column from the given numpy array?\n",
    "# [[1, 2, 3, 4]\n",
    "# [5, 6, 7, 8],\n",
    "# [9, 10, 11, 12]]\n",
    "\n",
    "element = arr[2, 3]\n",
    "print(element)  # Output: 12\n"
   ]
  },
  {
   "cell_type": "code",
   "execution_count": null,
   "id": "1fc9f9ef",
   "metadata": {},
   "outputs": [],
   "source": [
    "# 6. Write code to extract all odd-indexed elements from the given numpy array?\n",
    "# [[1, 2, 3, 4]\n",
    "# [5, 6, 7, 8],\n",
    "# [9, 10, 11, 12]]\n",
    "\n",
    "odd_indexed = arr.flatten()[1::2]\n",
    "print(odd_indexed)\n"
   ]
  },
  {
   "cell_type": "code",
   "execution_count": null,
   "id": "afbdd9d0",
   "metadata": {},
   "outputs": [],
   "source": [
    "# 7. How can you generate a random 3x3 matrix with values between 0 and 1?\n",
    "random_matrix = np.random.rand(3,3)\n",
    "print(random_matrix)\n"
   ]
  },
  {
   "cell_type": "markdown",
   "id": "bc5e7396",
   "metadata": {},
   "source": [
    "8. Describe the difference between np.random.rand and np.random.randn?\n",
    "\n",
    "np.random.rand(shape) gives random samples from a uniform distribution over [0, 1).\n",
    "\n",
    "np.random.randn(shape) gives random samples from a standard normal distribution (mean 0, variance 1)."
   ]
  },
  {
   "cell_type": "code",
   "execution_count": null,
   "id": "e2175a57",
   "metadata": {},
   "outputs": [],
   "source": [
    "# 9. Write code to increase the dimension of the following array?\n",
    "# [[1, 2, 3, 4]\n",
    "# [5, 6, 7, 8],\n",
    "# [9, 10, 11, 12]]\n",
    "\n",
    "new_arr = np.expand_dims(arr, axis=0)  # Adds new axis at the front\n",
    "print(new_arr.shape)  # Output: (1, 3, 4)\n"
   ]
  },
  {
   "cell_type": "code",
   "execution_count": null,
   "id": "fc98ca7e",
   "metadata": {},
   "outputs": [],
   "source": [
    "# 10. How to transpose the following array in NumPy?\n",
    "# [[1, 2, 3, 4]\n",
    "# [5, 6, 7, 8],\n",
    "# [9, 10, 11, 12]]\n",
    "\n",
    "transposed = arr.T\n",
    "print(transposed)\n"
   ]
  },
  {
   "cell_type": "code",
   "execution_count": null,
   "id": "37430b71",
   "metadata": {},
   "outputs": [],
   "source": [
    "# 11. Consider the following matrix:\n",
    "# Matrix A: [[1, 2, 3, 4] [5, 6, 7, 8],[9, 10, 11, 12]]\n",
    "# Matrix B: [[1, 2, 3, 4] [5, 6, 7, 8],[9, 10, 11, 12]]\n",
    "\n",
    "\n",
    "# Perform the following operation using Python:\n",
    "# 1 Index wise multiplication\n",
    "# 2 Matrix multiplication\n",
    "# 3Add both the matrics\n",
    "# 4Subtract matrix B from A\n",
    "# 5 Divide Matrix B by A\n",
    "\n",
    "A = np.array([[1,2,3,4],\n",
    "              [5,6,7,8],\n",
    "              [9,10,11,12]])\n",
    "B = np.array([[1,2,3,4],\n",
    "              [5,6,7,8],\n",
    "              [9,10,11,12]])\n",
    "\n",
    "# 1. Index wise multiplication\n",
    "print(A * B)\n",
    "\n",
    "# 2. Matrix multiplication\n",
    "print(np.dot(A, B.T))\n",
    "# or\n",
    "print(A @ B.T)\n",
    "\n",
    "# 3. Add both matrices\n",
    "print(A + B)\n",
    "\n",
    "# 4. Subtract B from A\n",
    "print(A - B)\n",
    "\n",
    "# 5. Divide B by A (index-wise)\n",
    "print(B / A)\n"
   ]
  },
  {
   "cell_type": "code",
   "execution_count": null,
   "id": "956172a6",
   "metadata": {},
   "outputs": [],
   "source": [
    "# 12.  Which function in Numpy can be used to swap the byte order of an array?\n",
    "\n",
    "# np.ndarray.byteswap()\n",
    "arr.byteswap(inplace=True)\n"
   ]
  },
  {
   "cell_type": "code",
   "execution_count": null,
   "id": "e2948837",
   "metadata": {},
   "outputs": [],
   "source": [
    "# 13.  What is the significance of the np.linalg.inv function?\n",
    "# It computes the inverse of a given square matrix.\n",
    "\n",
    "# Useful in linear algebra for solving systems of equations, etc.\n",
    "\n",
    "matrix = np.array([[1, 2], [3, 4]])\n",
    "inv_matrix = np.linalg.inv(matrix)\n",
    "print(inv_matrix)\n"
   ]
  },
  {
   "cell_type": "code",
   "execution_count": null,
   "id": "9c0bef8a",
   "metadata": {},
   "outputs": [],
   "source": [
    "# 14. What does the np.reshape function do, and how is it used?\n",
    "# It changes the shape of an array without changing its data.\n",
    "\n",
    "arr = np.array([1,2,3,4,5,6])\n",
    "reshaped = arr.reshape((2,3))   # 2 rows, 3 columns\n",
    "print(reshaped)\n"
   ]
  },
  {
   "cell_type": "code",
   "execution_count": null,
   "id": "5819c9ce",
   "metadata": {},
   "outputs": [],
   "source": [
    "# 15. What is broadcasting in Numpy?\n",
    "\n",
    "# Broadcasting allows NumPy to work with arrays of different shapes during arithmetic operations.\n",
    "\n",
    "# The smaller array is \"broadcast\" over the larger array so that they have compatible shapes\n",
    "\n",
    "\n",
    "a = np.array([1, 2, 3])\n",
    "b = np.array([, , ])\n",
    "print(a + b)\n",
    "# Adds each row of b to a: broadcasting happens\n"
   ]
  }
 ],
 "metadata": {
  "kernelspec": {
   "display_name": "Python 3",
   "language": "python",
   "name": "python3"
  },
  "language_info": {
   "name": "python",
   "version": "3.11.4"
  }
 },
 "nbformat": 4,
 "nbformat_minor": 5
}
