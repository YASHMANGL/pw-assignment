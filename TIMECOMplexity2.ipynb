{
 "cells": [
  {
   "cell_type": "markdown",
   "id": "332e632b",
   "metadata": {},
   "source": [
    "Find time complexity of below code blocks :"
   ]
  },
  {
   "cell_type": "markdown",
   "id": "18cb5bd8",
   "metadata": {},
   "source": [
    "Problem 1 :\n",
    "def quicksort(arr):\n",
    "if len(arr) <= 1:\n",
    "return arr\n",
    "pivot = arr[len(arr) // 2]\n",
    "left = [x for x in arr if x < pivot]\n",
    "middle = [x for x in arr if x == pivot]\n",
    "right = [x for x in arr if x > pivot]\n",
    "return quicksort(left) + middle + quicksort(right)\n",
    "\n",
    "\n",
    "\n",
    "\n",
    "Best/Average Case: O(nlogn)\n",
    "Worst Case: O(n**2)"
   ]
  },
  {
   "cell_type": "markdown",
   "id": "44c0561f",
   "metadata": {},
   "source": [
    "Problem 2 :\n",
    "def nested_loop_example(matrix):\n",
    "rows, cols = len(matrix), len(matrix[0])\n",
    "total = 0\n",
    "for i in range(rows):\n",
    "for j in range(cols):\n",
    "total += matrix[i][j]\n",
    "return total\n",
    "\n",
    "\n",
    "O(rows×cols)"
   ]
  },
  {
   "cell_type": "markdown",
   "id": "9065c015",
   "metadata": {},
   "source": [
    "Problem 3 :\n",
    "def example_function(arr):\n",
    "result = 0\n",
    "for element in arr:\n",
    "result += element\n",
    "return result\n",
    "\n",
    "O(n)"
   ]
  },
  {
   "cell_type": "markdown",
   "id": "7f17bcfb",
   "metadata": {},
   "source": [
    "Problem 4 :\n",
    "def longest_increasing_subsequence(nums):\n",
    "n = len(nums)\n",
    "lis = [1] * n\n",
    "for i in range(1, n):\n",
    "for j in range(0, i):\n",
    "if nums[i] > nums[j] and lis[i] < lis[j] + 1:\n",
    "lis[i] = lis[j] + 1\n",
    "return max(lis)\n",
    "\n",
    "O(n**2)"
   ]
  },
  {
   "cell_type": "markdown",
   "id": "ee7e8875",
   "metadata": {},
   "source": [
    "Practice Question - Creating Classes\n",
    "Problem 5 :\n",
    "def mysterious_function(arr):\n",
    "n = len(arr)\n",
    "result = 0\n",
    "for i in range(n):\n",
    "for j in range(i, n):\n",
    "result += arr[i] * arr[j]\n",
    "return result\n",
    "\n",
    "O(n**2)\n"
   ]
  },
  {
   "cell_type": "markdown",
   "id": "6c4ec077",
   "metadata": {},
   "source": [
    "Solve the following problems on recursion"
   ]
  },
  {
   "cell_type": "code",
   "execution_count": null,
   "id": "718a422c",
   "metadata": {},
   "outputs": [],
   "source": [
    "# Problem 6 : Sum of Digits\n",
    "# Write a recursive function to calculate the sum of digits of a given positive integer.\n",
    "# sum_of_digits(123) -> 6\n",
    "\n",
    "def sum_of_digits(n):\n",
    "    if n == 0:\n",
    "        return 0\n",
    "    return n % 10 + sum_of_digits(n // 10)\n",
    "\n",
    "# Example usage:\n",
    "print(sum_of_digits(123))  # Output: 6\n"
   ]
  },
  {
   "cell_type": "code",
   "execution_count": null,
   "id": "ed98d5a1",
   "metadata": {},
   "outputs": [],
   "source": [
    "# Problem 7: Fibonacci Series\n",
    "# Write a recursive function to generate the first n numbers of the Fibonacci series.\n",
    "# fibonacci_series(6) -> [0, 1, 1, 2, 3, 5]\n",
    "\n",
    "def fibonacci(n):\n",
    "    if n == 0:\n",
    "        return 0\n",
    "    elif n == 1:\n",
    "        return 1\n",
    "    else:\n",
    "        return fibonacci(n-1) + fibonacci(n-2)\n",
    "\n",
    "def fibonacci_series(n):\n",
    "    return [fibonacci(i) for i in range(n)]\n",
    "\n",
    "# Example usage:\n",
    "print(fibonacci_series(6))  # Output: [0, 1, 1, 2, 3, 5]\n"
   ]
  },
  {
   "cell_type": "code",
   "execution_count": null,
   "id": "4b2476d6",
   "metadata": {},
   "outputs": [],
   "source": [
    "# Problem 8 : Subset Sum\n",
    "# Given a set of positive integers and a target sum, write a recursive function to determine if there exists a subset\n",
    "# of the integers that adds up to the target sum.\n",
    "# subset_sum([3, 34, 4, 12, 5, 2], 9) -> True\n",
    "\n",
    "def subset_sum(nums, target):\n",
    "    def helper(i, current_sum):\n",
    "        if current_sum == target:\n",
    "            return True\n",
    "        if i == len(nums) or current_sum > target:\n",
    "            return False\n",
    "        # Include nums[i]\n",
    "        if helper(i+1, current_sum + nums[i]):\n",
    "            return True\n",
    "        # Exclude nums[i]\n",
    "        return helper(i+1, current_sum)\n",
    "    return helper(0, 0)\n",
    "\n",
    "# Example usage:\n",
    "print(subset_sum([3, 34, 4, 12, 5, 2], 9))  # Output: True\n"
   ]
  },
  {
   "cell_type": "code",
   "execution_count": null,
   "id": "6407590d",
   "metadata": {},
   "outputs": [],
   "source": [
    "# Problem 9: Word Break\n",
    "# Given a non-empty string and a dictionary of words, write a recursive function to determine if the string can be\n",
    "# segmented into a space-separated sequence of dictionary words.\n",
    "# word_break( leetcode , [ leet , code ]) -> True\n",
    "\n",
    "def word_break(s, word_dict):\n",
    "    def can_break(start):\n",
    "        if start == len(s):\n",
    "            return True\n",
    "        for end in range(start + 1, len(s) + 1):\n",
    "            if s[start:end] in word_dict and can_break(end):\n",
    "                return True\n",
    "        return False\n",
    "    return can_break(0)\n",
    "\n",
    "# Example usage:\n",
    "print(word_break('leetcode', {'leet', 'code'}))  # Output: True\n"
   ]
  },
  {
   "cell_type": "code",
   "execution_count": null,
   "id": "11dbcc24",
   "metadata": {},
   "outputs": [],
   "source": [
    "# Problem 10 : N-Queens\n",
    "# Implement a recursive function to solve the N Queens problem, where you have to place N queens on an N×N\n",
    "# chessboard in such a way that no two queens threaten each other.\n",
    "# n_queens(4)\n",
    "# [\n",
    "# [\".Q..\",\n",
    "# \"...Q\",\n",
    "# \"Q...\",\n",
    "# \"..Q.\"],\n",
    "# [\"..Q.\",\n",
    "# \"Q...\",\n",
    "# \"...Q\",\n",
    "# \".Q..\"]\n",
    "# ]\n",
    "\n",
    "\n",
    "def n_queens(n):\n",
    "    res = []\n",
    "    board = [['.']*n for _ in range(n)]\n",
    "\n",
    "    def is_valid(row, col):\n",
    "        # Check this column\n",
    "        for i in range(row):\n",
    "            if board[i][col] == 'Q':\n",
    "                return False\n",
    "        # Check upper left diagonal\n",
    "        i, j = row - 1, col - 1\n",
    "        while i >= 0 and j >= 0:\n",
    "            if board[i][j] == 'Q':\n",
    "                return False\n",
    "            i -= 1\n",
    "            j -= 1\n",
    "        # Check upper right diagonal\n",
    "        i, j = row - 1, col + 1\n",
    "        while i >= 0 and j < n:\n",
    "            if board[i][j] == 'Q':\n",
    "                return False\n",
    "            i -= 1\n",
    "            j += 1\n",
    "        return True\n",
    "\n",
    "    def solve(row):\n",
    "        if row == n:\n",
    "            res.append([''.join(r) for r in board])\n",
    "            return\n",
    "        for col in range(n):\n",
    "            if is_valid(row, col):\n",
    "                board[row][col] = 'Q'\n",
    "                solve(row + 1)\n",
    "                board[row][col] = '.'\n",
    "\n",
    "    solve(0)\n",
    "    return res\n",
    "\n",
    "# Example usage:\n",
    "solutions = n_queens(4)\n",
    "for sol in solutions:\n",
    "    for row in sol:\n",
    "        print(row)\n",
    "    print()\n"
   ]
  }
 ],
 "metadata": {
  "kernelspec": {
   "display_name": "Python 3",
   "language": "python",
   "name": "python3"
  },
  "language_info": {
   "name": "python",
   "version": "3.11.4"
  }
 },
 "nbformat": 4,
 "nbformat_minor": 5
}
