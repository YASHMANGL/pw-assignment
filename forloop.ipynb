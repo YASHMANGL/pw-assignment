{
 "cells": [
  {
   "cell_type": "markdown",
   "metadata": {},
   "source": [
    "BASIC LEVEL OF FOR LOOP"
   ]
  },
  {
   "cell_type": "code",
   "execution_count": null,
   "metadata": {},
   "outputs": [],
   "source": [
    "# 1. Write a Python program to print the numbers from 1 to 10 using a `for` loop.\n",
    "for i in range(1,11):\n",
    "    print(i)\n"
   ]
  },
  {
   "cell_type": "code",
   "execution_count": null,
   "metadata": {},
   "outputs": [],
   "source": [
    "# 2. Create a program that calculates the sum of all numbers in a list using a `for` loop.\n",
    "number=int(input(\"Enter number of elements in a list : \"))\n",
    "list=[]\n",
    "\n",
    "for i in range(number):\n",
    "    a=int(input(f\"Enter number {i+1} : \"))\n",
    "    list.append(a)\n",
    "\n",
    "print(list)\n",
    "sum=0\n",
    "\n",
    "for i in list:\n",
    "    sum+=i\n",
    "\n",
    "print(\"The sum of all element inside list is : \",sum)"
   ]
  },
  {
   "cell_type": "code",
   "execution_count": null,
   "metadata": {},
   "outputs": [],
   "source": [
    "# 3. Write a program to print the characters of a string in reverse order using a `for` loop.\n",
    "input_string=input(\"Enter string : \")\n",
    "for i in range(len(input_string)-1,-1,-1):\n",
    "    print(input_string[i],end=\"\")"
   ]
  },
  {
   "cell_type": "code",
   "execution_count": null,
   "metadata": {},
   "outputs": [],
   "source": [
    "# 4. Develop a program that finds the factorial of a given number using a `for` loop.\n",
    "number=int(input(\"Enter number : \"))\n",
    "fact=1\n",
    "for i in range(number):\n",
    "    fact=fact*(i+1)\n",
    "print(\"The factorial of \",number,\" is : \",fact)\n"
   ]
  },
  {
   "cell_type": "code",
   "execution_count": null,
   "metadata": {},
   "outputs": [],
   "source": [
    "# 5. Create a program to print the multiplication table of a given number using a `for` loop.\n",
    "number=int(input(\"Enter number : \"))\n",
    "print(\"Table of \",number,\" is\")\n",
    "for i in range(1,11):\n",
    "    print(number,\"*\",i,\"=\",number*i)"
   ]
  },
  {
   "cell_type": "code",
   "execution_count": null,
   "metadata": {},
   "outputs": [],
   "source": [
    "# 6. Write a program that counts the number of even and odd numbers in a list using a `for` loop.\n",
    "length=int(input(\"Enter length of list : \"))\n",
    "list1=[]\n",
    "\n",
    "for i in range(length):\n",
    "    list1.append(int(input(\"Enter element : \")))\n",
    "print(list1)\n",
    "\n",
    "count=0\n",
    "for i in list1:\n",
    "    if i%2==0:\n",
    "        count+=1\n",
    "print(\"Even numbers in list is\",count)\n",
    "print(\"Odd number in list : \",length-count)"
   ]
  },
  {
   "cell_type": "code",
   "execution_count": null,
   "metadata": {},
   "outputs": [],
   "source": [
    "# 7. Develop a program that prints the squares of numbers from 1 to 5 using a `for` loop.\n",
    "list1=[]\n",
    "for i in range(5):\n",
    "    list1.append((i+1)**2)\n",
    "print(list1)"
   ]
  },
  {
   "cell_type": "code",
   "execution_count": null,
   "metadata": {},
   "outputs": [],
   "source": [
    "# 8. Create a program to find the length of a string without using the `len()` function.\n",
    "input_string=input(\"Enter string : \")\n",
    "length=0\n",
    "for i in input_string:\n",
    "    length+=1\n",
    "print(\"Length of given string :\",length)"
   ]
  },
  {
   "cell_type": "code",
   "execution_count": null,
   "metadata": {},
   "outputs": [],
   "source": [
    "# 9. Write a program that calculates the average of a list of numbers using a `for` loop.\n",
    "length=int(input(\"Enter length of list : \"))\n",
    "list1=[]\n",
    "\n",
    "for i in range(length):\n",
    "    list1.append(int(input(\"Enter element : \")))\n",
    "print(list1)\n",
    "\n",
    "sum=0\n",
    "for i in list1:\n",
    "    sum+=i\n",
    "print(\"Average of list is : \",sum/length)"
   ]
  },
  {
   "cell_type": "code",
   "execution_count": null,
   "metadata": {},
   "outputs": [],
   "source": [
    "# 10. Develop a program that prints the first `n` Fibonacci numbers using a `for` loop.\n",
    "n=int(input(\"Enter number : \"))\n",
    "fibo1=0\n",
    "fibo2=1\n",
    "\n",
    "print(fibo1)\n",
    "print(fibo2)\n",
    "for i in range(2,n):\n",
    "    fibo3=fibo1+fibo2\n",
    "    print(fibo3)\n",
    "    fibo1=fibo2\n",
    "    fibo2=fibo3"
   ]
  },
  {
   "cell_type": "markdown",
   "metadata": {},
   "source": [
    "Intermediate Level:"
   ]
  },
  {
   "cell_type": "code",
   "execution_count": null,
   "metadata": {},
   "outputs": [],
   "source": [
    "# 11. Write a program to check if a given list contains any duplicates using a `for` loop.\n",
    "list1=[]\n",
    "length=int(input(\"Enter lengt of list : \"))\n",
    "for i in range(length):\n",
    "    list1.append(input(\"Enter element : \"))\n",
    "print(list1)\n",
    "\n",
    "condition=False\n",
    "for i in range(length):\n",
    "    element=list1[i]\n",
    "    if element in list1[i+1:]:\n",
    "        condition=True\n",
    "        break\n",
    "    else:\n",
    "        condition= False\n",
    "\n",
    "if condition==True:\n",
    "    print(\"List contaion duplicate items.\")\n",
    "else:\n",
    "    print(\"List does not contain duplicate items.\")"
   ]
  },
  {
   "cell_type": "code",
   "execution_count": null,
   "metadata": {},
   "outputs": [],
   "source": [
    "# 12. Create a program that prints the prime numbers in a given range using a `for` loop.\n",
    "numbers=int(input(\"ENTERS NUMBER : \"))\n",
    "primenumbers=[]\n",
    "for i in range(2,numbers+1):\n",
    "    is_prime=True\n",
    "    for j in range(2,i):\n",
    "        if i%j==0:\n",
    "            is_prime=False\n",
    "            break\n",
    "    if is_prime:\n",
    "        primenumbers.append(i)\n",
    "    \n",
    "print(primenumbers)"
   ]
  },
  {
   "cell_type": "code",
   "execution_count": null,
   "metadata": {},
   "outputs": [],
   "source": [
    "# 13. Develop a program that counts the number of vowels in a string using a `for` loop.\n",
    "input_string=input(\"Enter string : \").lower()\n",
    "count=0\n",
    "list1=[\"a\",\"e\",\"i\",\"o\",\"u\"]\n",
    "for char in input_string:\n",
    "    if char in list1:\n",
    "        count+=1\n",
    "print(\"Total number of vowel in input string is : \",count)"
   ]
  },
  {
   "cell_type": "code",
   "execution_count": null,
   "metadata": {},
   "outputs": [],
   "source": [
    "# 14. Write a program to find the maximum element in a 2D list using a nested `for` loop.\n",
    "list1=[[1,2,3],[4,5,6],[46,78,110],[98,99,100]]\n",
    "max_element=[]\n",
    "for i in list1:\n",
    "    max_element.append(max(i))\n",
    "\n",
    "print(\"MAXIMUM ELEMENT IN 2D LIST :  \",max(max_element))"
   ]
  },
  {
   "cell_type": "code",
   "execution_count": null,
   "metadata": {},
   "outputs": [],
   "source": [
    "# 15. Create a program that removes all occurrences of a specific element from a list using a `for` loop.\n",
    "length=int(input(\"Enter length of list :\" ))\n",
    "list1=[]\n",
    "for i in range(length):\n",
    "    list1.append(input(\"Enter element : \"))\n",
    "print(list1)\n",
    "\n",
    "specific_element=input(\"Enter element : \")\n",
    "\n",
    "for i in list1:\n",
    "    if i==specific_element:\n",
    "        list1.remove(i)\n",
    "\n",
    "print(\"Modified list is : \",list1)"
   ]
  },
  {
   "cell_type": "code",
   "execution_count": null,
   "metadata": {},
   "outputs": [],
   "source": [
    "# 16. Develop a program that generates a multiplication table for numbers from 1 to 5 using a nested `for` loop.\n",
    "list1=[]\n",
    "for i in range(5):\n",
    "    list2=[]\n",
    "    for j in range(10):\n",
    "        list2.append((i+1)*(j+1))\n",
    "    list1.append(list2)\n",
    "\n",
    "for i in list1:\n",
    "    print(i)"
   ]
  },
  {
   "cell_type": "code",
   "execution_count": null,
   "metadata": {},
   "outputs": [],
   "source": [
    "# 17. Write a program that converts a list of Fahrenheit temperatures to Celsius using a `for` loop.\n",
    "\n",
    "n=int(input(\"Enter number of temp. available in Fahrenhit : \"))\n",
    "l=[]\n",
    "for i in range(n):\n",
    "    l.append(float(input(\"Enter temperature : \")))\n",
    "\n",
    "c=[]\n",
    "for i in l:\n",
    "    c.append((i-32)*5/9)\n",
    "\n",
    "print(\"FAHRENHEIT TEMPERATURE : \\n\",l)\n",
    "print(\"CELSIUS TEMPERATURE :\\n\",c)\n"
   ]
  },
  {
   "cell_type": "code",
   "execution_count": null,
   "metadata": {},
   "outputs": [],
   "source": [
    "# 18. Create a program to print the common elements from two lists using a `for` loop.\n",
    "length=int(input(\"Enter length of list : \"))\n",
    "a=[]\n",
    "for i in range(length):\n",
    "    element=(input(\"Enter element : \"))\n",
    "    a.append(element)\n",
    "print(a)\n",
    "\n",
    "length1=int(input(\"Enter length of list : \"))\n",
    "b=[]\n",
    "for i in range(length1):\n",
    "    element=(input(\"Enter element : \"))\n",
    "    b.append(element)\n",
    "print(b)\n",
    "\n",
    "c=[]\n",
    "for i in a:\n",
    "    for j in b:\n",
    "        if i==j:\n",
    "            c.append(i)\n",
    "print(\"Commom element \\n\",c)\n"
   ]
  },
  {
   "cell_type": "code",
   "execution_count": null,
   "metadata": {},
   "outputs": [],
   "source": [
    "# 19. Develop a program that prints the pattern of right-angled triangles using a `for` loop. Use ‘*’ to draw the  pattern\n",
    "n=int(input(\"Enter values : \"))\n",
    "for i in range(n):\n",
    "    for j in range(i+1):\n",
    "        print(\"*\",end=\"\")\n",
    "    print()"
   ]
  },
  {
   "cell_type": "code",
   "execution_count": null,
   "metadata": {},
   "outputs": [],
   "source": [
    "# 20. Write a program to find the greatest common divisor (GCD) of two numbers using a `for` loop.\n",
    "fn=int(input(\"Enter first number : \"))\n",
    "sn=int(input(\"Enter second number : \"))\n",
    "a=fn\n",
    "b=sn\n",
    "while sn !=0:\n",
    "    fn,sn=sn,fn%sn\n",
    "\n",
    "print(f\"The GCD of {a} and {b} = {fn} \")"
   ]
  },
  {
   "cell_type": "markdown",
   "metadata": {},
   "source": [
    "ADVANCED LEVEL"
   ]
  },
  {
   "cell_type": "code",
   "execution_count": null,
   "metadata": {},
   "outputs": [],
   "source": [
    "# 21. Create a program that calculates the sum of the digits of numbers in a list using a list comprehension.\n",
    "\n",
    "list1=[]\n",
    "n=int(input(\"Enter numbers : \"))\n",
    "for i in range(n):\n",
    "    list1.append(int(input(f\"Enter elements {i+1} : \")))\n",
    "result=sum([i for i in list1])\n",
    "print(result)"
   ]
  },
  {
   "cell_type": "code",
   "execution_count": null,
   "metadata": {},
   "outputs": [],
   "source": [
    "# 22. Write a program to find the prime factors of a given number using a `for` loop and list comprehension.\n",
    "n=int(input(\"Enter number : \"))\n",
    "\n",
    "primenumbers=[i for i in range(2,n) if all( i%j !=0 for j in range(2,i)) ]\n",
    "print(primenumbers)"
   ]
  },
  {
   "cell_type": "code",
   "execution_count": null,
   "metadata": {},
   "outputs": [],
   "source": [
    "# 23. Develop a program that extracts unique elements from a list and stores them in a new list using a list comprehension\n",
    "n=int(input(\"Enter numbers of elements in list : \"))\n",
    "l=[]\n",
    "for i in range(n):\n",
    "    l.append(int(input(\"Enter elements :\")))\n",
    "\n",
    "print(\"INPUT LIST : \\n\",l)\n",
    "\n",
    "unique_l=[]\n",
    "[unique_l.append(i) for i in l if i not in unique_l ]\n",
    "print(\"UNIQUE LIST :\\n\",unique_l)"
   ]
  },
  {
   "cell_type": "code",
   "execution_count": null,
   "metadata": {},
   "outputs": [],
   "source": [
    "# 24. Create a program that generates a list of all palindromic numbers up to a specified limit using a list comprehension.\n",
    "n=int(input(\"Enter number : \"))\n",
    "\n",
    "palindrome=[i for i in range(1,n+1) if str(i)==str(i)[::-1]]\n",
    "print(f\"Palindrome no : \\n\",palindrome)"
   ]
  },
  {
   "cell_type": "code",
   "execution_count": null,
   "metadata": {},
   "outputs": [],
   "source": [
    "# 25. Write a program to flatten a nested list using list comprehension.\n",
    "\n",
    "l=[[1,2,3],[4,5,6],[7,8,9],[10,11,12,13,14,15]]\n",
    "\n",
    "l=[j for i in l for j in i]\n",
    "print(\"FLattern list : \\n\",l)"
   ]
  },
  {
   "cell_type": "code",
   "execution_count": null,
   "metadata": {},
   "outputs": [],
   "source": [
    "# 26. Develop a program that computes the sum of even and odd numbers in a list separately using list comprehension.\n",
    "n=int(input(\"Enter no of elements : \"))\n",
    "l=[]\n",
    "for i in range(n):\n",
    "    l.append(int(input(f\"Enter {i+1} element : \")))\n",
    "\n",
    "a=sum([i for i in l if i%2==0])\n",
    "b=sum([i for i in l if i%2!=0])\n",
    "\n",
    "print(\"The sum of even number : \",a)\n",
    "print(\"The sum of odd number : \",b)"
   ]
  },
  {
   "cell_type": "code",
   "execution_count": null,
   "metadata": {},
   "outputs": [],
   "source": [
    "# 27. Create a program that generates a list of squares of odd numbers between 1 and 10 using list  comprehension.\n",
    "\n",
    "l1=[x**2  for x in range(1,10) if x%2!=0]\n",
    "print(l1)"
   ]
  },
  {
   "cell_type": "code",
   "execution_count": null,
   "metadata": {},
   "outputs": [],
   "source": [
    "# 28. Write a program that combines two lists into a dictionary using list comprehension.\n",
    "n=int(input(\"Enter no of elements in list : \"))\n",
    "print(\"Enter elements of list 1 \")\n",
    "l1=[]\n",
    "for i in range(n):\n",
    "    l1.append(input(f\"Enter {i+1} element : \"))\n",
    "print(\"Enter element of list 2\")\n",
    "l2=[]\n",
    "for i in range(n):\n",
    "    l2.append(input(f\"Enter {i+1} element : \"))\n",
    "\n",
    "l3={l1[i]:l2[i] for i in range(n)}\n",
    "print(l3)"
   ]
  },
  {
   "cell_type": "code",
   "execution_count": null,
   "metadata": {},
   "outputs": [],
   "source": [
    "# 29. Develop a program that extracts the vowels from a string and stores them in a list using list comprehension.\n",
    "\n",
    "input_string=input(\"Enter string : \\n\")\n",
    "vowel=['a','e','i','o','u','A','E','I','O','U']\n",
    "l1=[i for i in input_string if i in vowel]\n",
    "print(\"Vowel in input string : \\n\",l1)"
   ]
  },
  {
   "cell_type": "code",
   "execution_count": null,
   "metadata": {},
   "outputs": [],
   "source": [
    "# 30. Create a program that removes all non-numeric characters from a list of strings using list comprehension.\n",
    "n=int(input(\"Enter no of elements : \"))\n",
    "l=[]\n",
    "for i in range(n):\n",
    "    l.append(input(f\"Enter {i+1} element : \"))\n",
    "\n",
    "l1=[''.join([char for char in s if char.isdigit()]) for s in l]\n",
    "print(l1)"
   ]
  },
  {
   "cell_type": "markdown",
   "metadata": {},
   "source": [
    "Challenge Level:"
   ]
  },
  {
   "cell_type": "code",
   "execution_count": null,
   "metadata": {},
   "outputs": [],
   "source": [
    "# 31. Write a program to generate a list of prime numbers using the Sieve of Eratosthenes algorithm and list comprehension.\n",
    "n=int(input('ENter number: '))\n",
    "l=[True for i in range(n+1)]\n",
    "l[0],l[1]=False,False\n",
    "\n",
    "for i in range(2,n+1):\n",
    "    if l[i]==True:\n",
    "        for j in range(i*i,n+1,i):\n",
    "            l[j]=False\n",
    "\n",
    "l1=[i for i in range(n+1) if l[i]]\n",
    "print('List of prime numbers :\\n',l1)\n",
    "\n"
   ]
  },
  {
   "cell_type": "code",
   "execution_count": null,
   "metadata": {},
   "outputs": [],
   "source": [
    "# 32. Create a program that generates a list of all Pythagorean triplets up to a specified limit using list comprehension.\n",
    "n=int(input('Enter range : '))\n",
    "triplete=list((a,b,int(c)) for a in range(1,n+1) for b in range(a+1,n+1)  if ( c:=(a**2+b**2)**0.5)%1==0 and c<=n )\n",
    "print(triplete)"
   ]
  },
  {
   "cell_type": "code",
   "execution_count": null,
   "metadata": {},
   "outputs": [],
   "source": [
    "# 33. Develop a program that generates a list of all possible combinations of two lists using list comprehension.\n",
    "n=int(input('Enter total number of elements in list1: '))\n",
    "l1=[]\n",
    "for i in range(n):\n",
    "    l1.append(input(f'Enter {i+1} element : '))\n",
    "n1=int(input('Enter total number of elements in list1: '))\n",
    "l2=[]\n",
    "for i in range(n1):\n",
    "    l2.append(input(f'Enter {i+1} element : '))\n",
    "print('List 1 :\\n',l1)\n",
    "print('List 2 :\\n',l2)\n",
    "l3=list(((x,y) for x in l1 for y in l2))\n",
    "print('The list of combination of l1 and l2 :\\n',l3)"
   ]
  },
  {
   "cell_type": "code",
   "execution_count": null,
   "metadata": {},
   "outputs": [],
   "source": [
    "# 34. Write a program that calculates the mean, median, and mode of a list of numbers using list comprehension.\n",
    "n=int(input('Enter total number of elements in list1: '))\n",
    "l1=[]\n",
    "for i in range(n):\n",
    "    l1.append(int(input(f'Enter {i+1} element : ')))\n",
    "print('List 1 :\\n',l1)\n",
    "# MEAN\n",
    "mean=sum([i for i in l1])\n",
    "length=len(l1)\n",
    "print('Mean of list 1 :\\n',mean/length)\n",
    "# MEDIAN\n",
    "median=sorted([i for i in l1])\n",
    "if length%2!=0:\n",
    "    print('Median of list 1 : ',median[length//2])\n",
    "else:\n",
    "    print('Median of list 1 : ',(median[(length)//2]+median[(length)//2-1])/2)\n",
    "# MODE\n",
    "mode={i:l1.count(i) for i in l1}\n",
    "numbers=max(mode.values())\n",
    "Mode=([i for i in mode if mode[i]==numbers])\n",
    "print('Mode of list 1:',Mode)\n",
    "\n"
   ]
  },
  {
   "cell_type": "code",
   "execution_count": null,
   "metadata": {},
   "outputs": [],
   "source": [
    "# 35. Create a program that generates Pascal's triangle up to a specified number of rows using list comprehension.\n",
    "n=int(input('Enter number of rows :'))\n",
    "triangle = [[1] * (i + 1) for i in range(n)]\n",
    "for i in range(2,n):\n",
    "    for j in range(1,i):\n",
    "        triangle[i][j]=triangle[i-1][j-1]+triangle[i-1][j]\n",
    "for i in triangle:\n",
    "    print(i)\n"
   ]
  }
 ],
 "metadata": {
  "kernelspec": {
   "display_name": "Python 3",
   "language": "python",
   "name": "python3"
  },
  "language_info": {
   "codemirror_mode": {
    "name": "ipython",
    "version": 3
   },
   "file_extension": ".py",
   "mimetype": "text/x-python",
   "name": "python",
   "nbconvert_exporter": "python",
   "pygments_lexer": "ipython3",
   "version": "3.12.2"
  }
 },
 "nbformat": 4,
 "nbformat_minor": 2
}
